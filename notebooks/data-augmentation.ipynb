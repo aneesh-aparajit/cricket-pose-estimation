{
 "cells": [
  {
   "cell_type": "code",
   "execution_count": 1,
   "id": "8654f28a",
   "metadata": {},
   "outputs": [],
   "source": [
    "import albumentations as A\n",
    "import cv2\n",
    "import matplotlib.pyplot as plt\n",
    "import numpy as np\n",
    "from tqdm import tqdm\n",
    "import os\n",
    "\n",
    "transform = A.Compose([\n",
    "    A.HorizontalFlip(p=0.5),\n",
    "    A.RandomBrightnessContrast(p=1),\n",
    "    A.ColorJitter(p=0.8), \n",
    "    A.Rotate(),\n",
    "])"
   ]
  },
  {
   "cell_type": "code",
   "execution_count": 10,
   "id": "fa219278",
   "metadata": {},
   "outputs": [
    {
     "data": {
      "text/plain": [
       "1224"
      ]
     },
     "execution_count": 10,
     "metadata": {},
     "output_type": "execute_result"
    }
   ],
   "source": [
    "len(os.listdir('./data/drive/'))"
   ]
  },
  {
   "cell_type": "code",
   "execution_count": 11,
   "id": "751e0e79",
   "metadata": {},
   "outputs": [
    {
     "data": {
      "text/plain": [
       "1120"
      ]
     },
     "execution_count": 11,
     "metadata": {},
     "output_type": "execute_result"
    }
   ],
   "source": [
    "len(os.listdir('./data/legglance-flick/'))"
   ]
  },
  {
   "cell_type": "code",
   "execution_count": 12,
   "id": "200d5b5d",
   "metadata": {},
   "outputs": [
    {
     "data": {
      "text/plain": [
       "1260"
      ]
     },
     "execution_count": 12,
     "metadata": {},
     "output_type": "execute_result"
    }
   ],
   "source": [
    "len(os.listdir('./data/pullshot/'))"
   ]
  },
  {
   "cell_type": "code",
   "execution_count": 13,
   "id": "c099f3e0",
   "metadata": {},
   "outputs": [
    {
     "data": {
      "text/plain": [
       "1120"
      ]
     },
     "execution_count": 13,
     "metadata": {},
     "output_type": "execute_result"
    }
   ],
   "source": [
    "len(os.listdir('./data/sweep/'))"
   ]
  },
  {
   "cell_type": "code",
   "execution_count": 6,
   "id": "ddf2bafe",
   "metadata": {
    "scrolled": false
   },
   "outputs": [
    {
     "name": "stderr",
     "output_type": "stream",
     "text": [
      "100%|█████████████████████████████████████████| 204/204 [00:17<00:00, 11.53it/s]\n"
     ]
    }
   ],
   "source": [
    "for file in tqdm(os.listdir('./data/drive/')):\n",
    "    img = cv2.imread(f'./data/drive/{file}', cv2.IMREAD_COLOR)\n",
    "    img = cv2.cvtColor(img, cv2.COLOR_BGR2RGB)\n",
    "    for _ in range(5):\n",
    "        transformed = transform(image=img)\n",
    "        plt.imsave(f'./data/drive/{file.split(\".\")[0]}_{_}.png', transformed['image'])"
   ]
  },
  {
   "cell_type": "code",
   "execution_count": 7,
   "id": "5203f620",
   "metadata": {
    "scrolled": true
   },
   "outputs": [
    {
     "name": "stderr",
     "output_type": "stream",
     "text": [
      "100%|█████████████████████████████████████████| 140/140 [01:09<00:00,  2.02it/s]\n"
     ]
    }
   ],
   "source": [
    "import os\n",
    "\n",
    "for file in tqdm(os.listdir('./data/legglance-flick/')):\n",
    "#     print(file)\n",
    "    img = cv2.imread(f'./data/legglance-flick/{file}', cv2.IMREAD_COLOR)\n",
    "    if img is not None:\n",
    "        img = cv2.cvtColor(img, cv2.COLOR_BGR2RGB)\n",
    "        for _ in range(7):\n",
    "            transformed = transform(image=img)\n",
    "            plt.imsave(f'./data/legglance-flick/{file.split(\".\")[0]}_{_}.png', transformed['image'])"
   ]
  },
  {
   "cell_type": "code",
   "execution_count": 8,
   "id": "abcc22bf",
   "metadata": {},
   "outputs": [
    {
     "name": "stderr",
     "output_type": "stream",
     "text": [
      "100%|█████████████████████████████████████████| 210/210 [00:16<00:00, 12.67it/s]\n"
     ]
    }
   ],
   "source": [
    "import os\n",
    "\n",
    "for file in tqdm(os.listdir('./data/pullshot/')):\n",
    "#     print(file)\n",
    "    img = cv2.imread(f'./data/pullshot/{file}', cv2.IMREAD_COLOR)\n",
    "    if img is not None:\n",
    "        img = cv2.cvtColor(img, cv2.COLOR_BGR2RGB)\n",
    "        for _ in range(5):\n",
    "            transformed = transform(image=img)\n",
    "            plt.imsave(f'./data/pullshot/{file.split(\".\")[0]}_{_}.png', transformed['image'])"
   ]
  },
  {
   "cell_type": "code",
   "execution_count": 9,
   "id": "7c040e27",
   "metadata": {},
   "outputs": [
    {
     "name": "stderr",
     "output_type": "stream",
     "text": [
      "100%|█████████████████████████████████████████| 140/140 [00:15<00:00,  9.01it/s]\n"
     ]
    }
   ],
   "source": [
    "import os\n",
    "\n",
    "for file in tqdm(os.listdir('./data/sweep/')):\n",
    "#     print(file)\n",
    "    img = cv2.imread(f'./data/sweep/{file}', cv2.IMREAD_COLOR)\n",
    "    if img is not None:\n",
    "        img = cv2.cvtColor(img, cv2.COLOR_BGR2RGB)\n",
    "        for _ in range(7):\n",
    "            transformed = transform(image=img)\n",
    "            plt.imsave(f'./data/sweep/{file.split(\".\")[0]}_{_}.png', transformed['image'])"
   ]
  }
 ],
 "metadata": {
  "kernelspec": {
   "display_name": "ml_env",
   "language": "python",
   "name": "ml_env"
  },
  "language_info": {
   "codemirror_mode": {
    "name": "ipython",
    "version": 3
   },
   "file_extension": ".py",
   "mimetype": "text/x-python",
   "name": "python",
   "nbconvert_exporter": "python",
   "pygments_lexer": "ipython3",
   "version": "3.9.12"
  },
  "latex_envs": {
   "LaTeX_envs_menu_present": true,
   "autoclose": false,
   "autocomplete": true,
   "bibliofile": "biblio.bib",
   "cite_by": "apalike",
   "current_citInitial": 1,
   "eqLabelWithNumbers": true,
   "eqNumInitial": 1,
   "hotkeys": {
    "equation": "Ctrl-E",
    "itemize": "Ctrl-I"
   },
   "labels_anchors": false,
   "latex_user_defs": false,
   "report_style_numbering": false,
   "user_envs_cfg": false
  },
  "toc": {
   "base_numbering": 1,
   "nav_menu": {},
   "number_sections": true,
   "sideBar": true,
   "skip_h1_title": false,
   "title_cell": "Table of Contents",
   "title_sidebar": "Contents",
   "toc_cell": false,
   "toc_position": {},
   "toc_section_display": true,
   "toc_window_display": false
  }
 },
 "nbformat": 4,
 "nbformat_minor": 5
}
